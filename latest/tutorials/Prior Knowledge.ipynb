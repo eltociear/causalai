{
 "cells": [
  {
   "cell_type": "markdown",
   "id": "e50afff0",
   "metadata": {},
   "source": [
    "# Prior Knowledge"
   ]
  },
  {
   "cell_type": "markdown",
   "id": "1b23b6fb",
   "metadata": {},
   "source": [
    "When performing causal discovery, a user may have some domain knowledge which may allow them to specify one or multiple of the following:\n",
    "1. A directional link between certain pairs of nodes are forbidden.\n",
    "2. A directional link exists between certain pairs of nodes.\n",
    "3. Nodes that are root variables, i.e., they have no parents (incoming causal links).\n",
    "4. Nodes that are leaf variables, i.e., they have no children (no outgoing links).\n",
    "\n",
    "To allow such user specifications, we support the **PriorKnowledge** class which can be initialized with the relevant prior knowledge about the graph. If a PriorKnowledge instantance is created, it can be passed to the causal discovery algorithm being used, where it will enforce these conditions. Note that specifying the PriorKnowledge object is optional and not needed if the user has no prior knowledge about the variables. \n",
    "\n",
    "The reason for supporting this functionality is that it helps improve the accuracy of the discovered causal graph, which may otherwise contain spurious or missing links due to many possible reasons such as insufficient data or data violating the causal model assumption.\n",
    "\n",
    "We begin by importing the PriorKnowledge class object."
   ]
  },
  {
   "cell_type": "code",
   "execution_count": 2,
   "id": "4ba6ba0d",
   "metadata": {},
   "outputs": [],
   "source": [
    "from causalai.models.common.prior_knowledge import PriorKnowledge"
   ]
  },
  {
   "cell_type": "markdown",
   "id": "deba5797",
   "metadata": {},
   "source": [
    "## Tabular Data"
   ]
  },
  {
   "cell_type": "markdown",
   "id": "32158ff7",
   "metadata": {},
   "source": [
    "We now show an example of how to specify prior knowledge. For this example, consider a tabular data which has 4 variables named A,B,C, and D. Suppose we want to specify that the links C->A, C->B, and D->C are forbidden (read as: C causes A, C causes B, and D causes C are forbidden). This can be done as follows."
   ]
  },
  {
   "cell_type": "code",
   "execution_count": 3,
   "id": "ca226383",
   "metadata": {},
   "outputs": [],
   "source": [
    "\n",
    "forbidden_links = {'A': ['C'], 'B': ['C'], 'C': ['D']}\n",
    "prior_knowledge = PriorKnowledge(forbidden_links)"
   ]
  },
  {
   "cell_type": "markdown",
   "id": "ebf47bc7",
   "metadata": {},
   "source": [
    "Suppose that we additionally wanted to specify that the link A->B exists. This can be done as follows:"
   ]
  },
  {
   "cell_type": "code",
   "execution_count": 4,
   "id": "7a2f77e1",
   "metadata": {},
   "outputs": [],
   "source": [
    "\n",
    "forbidden_links = {'A': ['C'], 'B': ['C'], 'C': ['D']}\n",
    "existing_links = {'B': ['A']}\n",
    "prior_knowledge = PriorKnowledge(forbidden_links=forbidden_links, existing_links=existing_links)"
   ]
  },
  {
   "cell_type": "markdown",
   "id": "dfbcd6d0",
   "metadata": {},
   "source": [
    "Notice that:\n",
    "1. forbidden_links and existing_links are specified as dictionaries.\n",
    "2. if an argument (E.g. existing_links) is not specified, it is assumed to be empty. This holds true for all the four arguments of PriorKnowledge: root_variables, leaf_variables, forbidden_links, existing_links.\n",
    "\n",
    "Below we show how to specify root_variables and leaf_variables. Note that they are specified as lists.\n",
    "\n",
    "For this example, suppose we want to specify that D is a leaf variable and A is a root variable."
   ]
  },
  {
   "cell_type": "code",
   "execution_count": 5,
   "id": "f09a58d3",
   "metadata": {},
   "outputs": [],
   "source": [
    "\n",
    "root_variables = ['A']\n",
    "leaf_variables = ['D']\n",
    "prior_knowledge = PriorKnowledge(root_variables=root_variables, leaf_variables=leaf_variables)\n"
   ]
  },
  {
   "cell_type": "markdown",
   "id": "ce0fbc15",
   "metadata": {},
   "source": [
    "## Time Series Data\n",
    "\n",
    "For time series data, PriorKnowledge can be specified in the same format as shown above for tabular data. This means that the PriorKnowledge for time series is time index agnostic."
   ]
  },
  {
   "cell_type": "markdown",
   "id": "debad0c3",
   "metadata": {},
   "source": [
    "## PriorKnowledge: Useful methods\n",
    "\n",
    "Finally, we describe the class method **isValid(parent, child)** of PriorKnowledge, which is used internally by our causal discovery algorithms, but optionally may be of use to users.\n",
    "\n",
    "This method essentially takes the name or index of 2 nodes as input, and outputs whether this causal link is allowed by the PriorKnowledge instance or not. If PriorKnowledge does not specify anything about this causal link, or PriorKnowledge is not instantiated using any arguments at all, the output will be always True.\n",
    "\n",
    "Let's use all the conditions specified in the above examples in the example below:"
   ]
  },
  {
   "cell_type": "code",
   "execution_count": 6,
   "id": "292314d4",
   "metadata": {},
   "outputs": [],
   "source": [
    "forbidden_links = {'A': ['C'], 'B': ['C'], 'C': ['D']} # C cannot be a parent of A and B, and D cannot be a parent of C\n",
    "existing_links = {'B': ['A']} # A is a parent of B\n",
    "root_variables = ['A']\n",
    "leaf_variables = ['D']\n",
    "prior_knowledge = PriorKnowledge(forbidden_links=forbidden_links, \n",
    "                                 existing_links=existing_links,\n",
    "                                 root_variables=root_variables,\n",
    "                                 leaf_variables=leaf_variables)\n"
   ]
  },
  {
   "cell_type": "code",
   "execution_count": 7,
   "id": "91cfdab3",
   "metadata": {},
   "outputs": [
    {
     "name": "stdout",
     "output_type": "stream",
     "text": [
      "Is the link C->A allowed? False\n",
      "Is the link C->B allowed? False\n",
      "Is the link D->C allowed? False\n",
      "\n",
      "Is the link A->B allowed? True\n",
      "\n",
      "Is the link B->A allowed? False\n",
      "Is the link D->B allowed? False\n",
      "\n",
      "Is the link B->C allowed? True\n"
     ]
    }
   ],
   "source": [
    "print(f\"Is the link C->A allowed? {prior_knowledge.isValid('C', 'A')}\") # specified as forbidden above\n",
    "print(f\"Is the link C->B allowed? {prior_knowledge.isValid('C', 'B')}\") # specified as forbidden above\n",
    "print(f\"Is the link D->C allowed? {prior_knowledge.isValid('D', 'C')}\") # specified as forbidden above\n",
    "\n",
    "print(f\"\\nIs the link A->B allowed? {prior_knowledge.isValid('A', 'B')}\") # specified as existing above\n",
    "\n",
    "print(f\"\\nIs the link B->A allowed? {prior_knowledge.isValid('B', 'A')}\")# A specified as root, thus cannot be a child\n",
    "print(f\"Is the link D->B allowed? {prior_knowledge.isValid('D', 'B')}\")# D specified as leaf, thus cannot be a parent\n",
    "\n",
    "\n",
    "# nothing specified, hence allowed. Note index of B=1, and index of C=2. Just to show that we can use variable indices\n",
    "print(f\"\\nIs the link B->C allowed? {prior_knowledge.isValid(1, 2)}\") "
   ]
  },
  {
   "cell_type": "code",
   "execution_count": null,
   "id": "64573037",
   "metadata": {},
   "outputs": [],
   "source": []
  }
 ],
 "metadata": {
  "kernelspec": {
   "display_name": "Python 3 (ipykernel)",
   "language": "python",
   "name": "python3"
  },
  "language_info": {
   "codemirror_mode": {
    "name": "ipython",
    "version": 3
   },
   "file_extension": ".py",
   "mimetype": "text/x-python",
   "name": "python",
   "nbconvert_exporter": "python",
   "pygments_lexer": "ipython3",
   "version": "3.9.13"
  }
 },
 "nbformat": 4,
 "nbformat_minor": 5
}
