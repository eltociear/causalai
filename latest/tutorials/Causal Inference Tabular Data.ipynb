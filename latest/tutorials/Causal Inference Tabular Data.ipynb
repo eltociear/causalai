{
 "cells": [
  {
   "cell_type": "markdown",
   "id": "19a4bf3a",
   "metadata": {},
   "source": [
    "# Causal Inference for Tabular Data"
   ]
  },
  {
   "cell_type": "markdown",
   "id": "72f9dd0e",
   "metadata": {},
   "source": [
    "Causal inference involves finding the effect of intervention on one set of variables, on another variable. For instance, if A->B->C. Then all the three variables may be correlated, but intervention on C, does not affect the values of B, since C is not a causal ancestor of of B. But on the other hand, interventions on A or B, both affect the values of C. \n",
    "\n",
    "While there are many different kinds of causal inference questions one may be interested in, we currently support two kinds-- Average Treatment Effect (ATE) and conditional ATE (CATE). In ATE, we intervene on one set of variables with a treatment value and a control value, and estimate the expected change in value of some specified target variable. Mathematically,\n",
    "\n",
    "$$\\texttt{ATE} = \\mathbb{E}[Y | \\texttt{do}(X=x_t)] - \\mathbb{E}[Y | \\texttt{do}(X=x_c)]$$\n",
    "\n",
    "where $\\texttt{do}$ denotes the intervention operation. In words, ATE aims to determine the relative expected difference in the value of $Y$ when we intervene $X$ to be $x_t$ compared to when we intervene $X$ to be $x_c$. Here $x_t$ and $x_c$ are respectively the treatment value and control value.\n",
    "\n",
    "CATE makes a similar estimate, but under some condition specified for a set of variables. Mathematically,\n",
    "\n",
    "$$\\texttt{CATE} = \\mathbb{E}[Y | \\texttt{do}(X=x_t), C=c] - \\mathbb{E}[Y | \\texttt{do}(X=x_c), C=c]$$\n",
    "\n",
    "where we condition on some set of variables $C$ taking value $c$. Notice here that $X$ is intervened but $C$ is not. "
   ]
  },
  {
   "cell_type": "code",
   "execution_count": 1,
   "id": "9ae42142",
   "metadata": {},
   "outputs": [],
   "source": [
    "import numpy as np\n",
    "import matplotlib\n",
    "from matplotlib import pyplot as plt\n",
    "%matplotlib inline\n",
    "import pickle as pkl\n",
    "import time\n",
    "from functools import partial\n",
    "\n",
    "from causalai.data.data_generator import DataGenerator, ConditionalDataGenerator\n",
    "from causalai.models.tabular.causal_inference import CausalInference\n",
    "from sklearn.linear_model import LinearRegression\n",
    "from sklearn.neural_network import MLPRegressor\n",
    "\n",
    "def define_treatments(name, t,c):\n",
    "    treatment = dict(var_name=name,\n",
    "                    treatment_value=t,\n",
    "                    control_value=c)\n",
    "    return treatment\n",
    "\n"
   ]
  },
  {
   "cell_type": "markdown",
   "id": "a6aaeb8a",
   "metadata": {},
   "source": [
    "## Continuous Data"
   ]
  },
  {
   "cell_type": "markdown",
   "id": "95c7c259",
   "metadata": {},
   "source": [
    "### Average Treatment Effect (ATE)\n",
    "For this example, we will use synthetic data that has linear dependence among data variables."
   ]
  },
  {
   "cell_type": "code",
   "execution_count": 2,
   "id": "8bd014f3",
   "metadata": {
    "scrolled": true
   },
   "outputs": [
    {
     "data": {
      "text/plain": [
       "{'a': [],\n",
       " 'b': ['a', 'f'],\n",
       " 'c': ['b', 'f'],\n",
       " 'd': ['b', 'g'],\n",
       " 'e': ['f'],\n",
       " 'f': [],\n",
       " 'g': []}"
      ]
     },
     "execution_count": 2,
     "metadata": {},
     "output_type": "execute_result"
    }
   ],
   "source": [
    "fn = lambda x:x\n",
    "coef = 0.1\n",
    "sem = {\n",
    "        'a': [], \n",
    "        'b': [('a', coef, fn), ('f', coef, fn)], \n",
    "        'c': [('b', coef, fn), ('f', coef, fn)],\n",
    "        'd': [('b', coef, fn), ('g', coef, fn)],\n",
    "        'e': [('f', coef, fn)], \n",
    "        'f': [],\n",
    "        'g': [],\n",
    "        }\n",
    "T = 1000\n",
    "data, var_names, graph_gt = DataGenerator(sem, T=T, seed=0, discrete=False)\n",
    "\n",
    "graph_gt"
   ]
  },
  {
   "cell_type": "code",
   "execution_count": 3,
   "id": "d7dd42fc",
   "metadata": {},
   "outputs": [
    {
     "name": "stdout",
     "output_type": "stream",
     "text": [
      "True ATE = 1.20\n"
     ]
    }
   ],
   "source": [
    "\n",
    "# Notice c does not depend on a if we intervene on b. Hence intervening a has no effect in this case. \n",
    "# This can be verified by changing the intervention values of variable a, which should have no impact on the ATE. \n",
    "# (see graph_gt above)\n",
    "t1='a' \n",
    "t2='b'\n",
    "target = 'c'\n",
    "target_var = var_names.index(target)\n",
    "\n",
    "intervention11 = 10*np.ones(T)\n",
    "intervention21 = 10*np.ones(T)\n",
    "intervention_data1,_,_ = DataGenerator(sem, T=T, seed=0,\n",
    "                        intervention={t1:intervention11, t2:intervention21})\n",
    "\n",
    "intervention12 = -0.*np.ones(T)\n",
    "intervention22 = -2.*np.ones(T)\n",
    "intervention_data2,_,_ = DataGenerator(sem, T=T, seed=0,\n",
    "                        intervention={t1:intervention12, t2:intervention22})\n",
    "\n",
    "\n",
    "\n",
    "true_effect = (intervention_data1[:,target_var] - intervention_data2[:,target_var]).mean()\n",
    "print(\"True ATE = %.2f\" %true_effect)"
   ]
  },
  {
   "cell_type": "code",
   "execution_count": 4,
   "id": "aa42f3af",
   "metadata": {
    "scrolled": true
   },
   "outputs": [
    {
     "name": "stdout",
     "output_type": "stream",
     "text": [
      "Estimated ATE: 1.02\n",
      "0.01s\n"
     ]
    }
   ],
   "source": [
    "\n",
    "tic = time.time()\n",
    "\n",
    "\n",
    "treatments = [define_treatments(t1, intervention11,intervention12),\\\n",
    "             define_treatments(t2, intervention21,intervention22)]\n",
    "# CausalInference_ = CausalInference(data, var_names, graph_gt,\\\n",
    "#         partial(MLPRegressor, hidden_layer_sizes=(100,100)) , False)\n",
    "CausalInference_ = CausalInference(data, var_names, graph_gt, LinearRegression , discrete=False)\n",
    "\n",
    "ate, y_treat,y_control = CausalInference_.ate(target, treatments)\n",
    "print(f'Estimated ATE: {ate:.2f}')\n",
    "toc = time.time()\n",
    "print(f'{toc-tic:.2f}s')\n",
    "\n"
   ]
  },
  {
   "cell_type": "markdown",
   "id": "fd7be0b2",
   "metadata": {},
   "source": [
    "### Conditional Average Treatement Effect (CATE)\n",
    "\n",
    "The data is generated using the following structural equation model:\n",
    "$$C = noise$$\n",
    "$$W = C + noise$$\n",
    "$$X = C*W + noise$$\n",
    "$$Y = C*X + noise$$\n",
    "\n",
    "We will treat C as the condition variable, X as the intervention variable, and Y as the target variable in our example below. The noise used in our example is sampled from the standard Gaussian distribution."
   ]
  },
  {
   "cell_type": "code",
   "execution_count": 5,
   "id": "76ae14ca",
   "metadata": {
    "scrolled": true
   },
   "outputs": [
    {
     "data": {
      "text/plain": [
       "{'C': [], 'W': ['C'], 'X': ['C', 'W'], 'Y': ['C', 'X']}"
      ]
     },
     "execution_count": 5,
     "metadata": {},
     "output_type": "execute_result"
    }
   ],
   "source": [
    "T=2000\n",
    "data, var_names, graph_gt = ConditionalDataGenerator(T=T, data_type='tabular', seed=0, discrete=False)\n",
    "# var_names = ['C', 'W', 'X', 'Y']\n",
    "treatment_var='X'\n",
    "target = 'Y'\n",
    "target_idx = var_names.index(target)\n",
    "\n",
    "\n",
    "intervention1 = 0.1*np.ones(T, dtype=int)\n",
    "intervention_data1,_,_ = ConditionalDataGenerator(T=T, data_type='tabular',\\\n",
    "                                    seed=0, intervention={treatment_var:intervention1}, discrete=False)\n",
    "\n",
    "intervention2 = 0.9*np.ones(T, dtype=int)\n",
    "intervention_data2,_,_ = ConditionalDataGenerator(T=T, data_type='tabular',\\\n",
    "                                    seed=0, intervention={treatment_var:intervention2}, discrete=False)\n",
    "graph_gt"
   ]
  },
  {
   "cell_type": "code",
   "execution_count": 6,
   "id": "dfaa804b",
   "metadata": {
    "scrolled": true
   },
   "outputs": [
    {
     "name": "stdout",
     "output_type": "stream",
     "text": [
      "True CATE: -1.69\n",
      "Estimated CATE: -1.71\n",
      "Time taken: 1.63s\n"
     ]
    }
   ],
   "source": [
    "condition_state=2.1\n",
    "diff = np.abs(data[:,0] - condition_state)\n",
    "idx = np.argmin(diff)\n",
    "assert diff[idx]<0.1, f'No observational data exists for the conditional variable close to {condition_state}'\n",
    "\n",
    "\n",
    "cate_gt = (intervention_data1[idx,target_idx] - intervention_data2[idx,target_idx])\n",
    "print(f'True CATE: {cate_gt:.2f}')\n",
    "\n",
    "####\n",
    "treatments = define_treatments(treatment_var, intervention1,intervention2)\n",
    "conditions = {'var_name': 'C', 'condition_value': condition_state}\n",
    "\n",
    "tic = time.time()\n",
    "model = partial(MLPRegressor, hidden_layer_sizes=(100,100), max_iter=200)\n",
    "CausalInference_ = CausalInference(data, var_names, graph_gt, model, discrete=False)#\n",
    "\n",
    "cate = CausalInference_.cate(target, treatments, conditions, model)\n",
    "toc = time.time()\n",
    "print(f'Estimated CATE: {cate:.2f}')\n",
    "print(f'Time taken: {toc-tic:.2f}s')"
   ]
  },
  {
   "cell_type": "markdown",
   "id": "2fcdd21f",
   "metadata": {},
   "source": [
    "## Discrete Data\n",
    "\n",
    "The synthetic data generation procedure for the ATE and CATE examples below are identical to the procedure followed above for the continuous case, except that the generated data is discrete in the cases below."
   ]
  },
  {
   "cell_type": "markdown",
   "id": "82047133",
   "metadata": {},
   "source": [
    "### Average Treatment Effect (ATE)\n",
    " For this example, we will use synthetic data that has linear dependence among data variables."
   ]
  },
  {
   "cell_type": "code",
   "execution_count": 7,
   "id": "08a0240a",
   "metadata": {},
   "outputs": [],
   "source": [
    "import numpy as np\n",
    "import matplotlib\n",
    "from matplotlib import pyplot as plt\n",
    "import pickle as pkl\n",
    "import time\n",
    "from functools import partial\n",
    "\n",
    "from causalai.data.data_generator import DataGenerator, ConditionalDataGenerator\n",
    "from causalai.models.tabular.causal_inference import CausalInference\n",
    "from sklearn.linear_model import LinearRegression\n",
    "from sklearn.neural_network import MLPRegressor\n",
    "from sklearn.linear_model import LogisticRegression\n",
    "from sklearn.neural_network import MLPClassifier\n",
    "from sklearn.tree import DecisionTreeClassifier\n",
    "\n",
    "def define_treatments(name, t,c):\n",
    "    treatment = dict(var_name=name,\n",
    "                    treatment_value=t,\n",
    "                    control_value=c)\n",
    "    return treatment"
   ]
  },
  {
   "cell_type": "code",
   "execution_count": 8,
   "id": "f6707d01",
   "metadata": {},
   "outputs": [
    {
     "data": {
      "text/plain": [
       "{'a': [],\n",
       " 'b': ['a', 'f'],\n",
       " 'c': ['b', 'f'],\n",
       " 'd': ['b', 'b', 'g'],\n",
       " 'e': ['f'],\n",
       " 'f': [],\n",
       " 'g': []}"
      ]
     },
     "execution_count": 8,
     "metadata": {},
     "output_type": "execute_result"
    }
   ],
   "source": [
    "fn = lambda x:x\n",
    "coef = 0.1\n",
    "sem = {\n",
    "        'a': [], \n",
    "        'b': [('a', coef, fn), ('f', coef, fn)], \n",
    "        'c': [('b', coef, fn), ('f', coef, fn)],\n",
    "        'd': [('b', coef, fn), ('b', coef, fn), ('g', coef, fn)],\n",
    "        'e': [('f', coef, fn)], \n",
    "        'f': [],\n",
    "        'g': [],\n",
    "        }\n",
    "T = 5000\n",
    "data, var_names, graph_gt = DataGenerator(sem, T=T, seed=0, discrete=True, nstates=10)\n",
    "\n",
    "graph_gt"
   ]
  },
  {
   "cell_type": "code",
   "execution_count": 9,
   "id": "5bfed6d4",
   "metadata": {},
   "outputs": [
    {
     "name": "stdout",
     "output_type": "stream",
     "text": [
      "Ground truth ATE = 0.66\n"
     ]
    }
   ],
   "source": [
    "\n",
    "t1='a'\n",
    "t2='b'\n",
    "target = 'c'\n",
    "target_var = var_names.index(target)\n",
    "\n",
    "# note that states can be [0,1,...,9], so the multiples below must be in this range\n",
    "intervention11 = 0*np.ones(T, dtype=int)\n",
    "intervention21 = 9*np.ones(T, dtype=int)\n",
    "intervention_data1,_,_ = DataGenerator(sem, T=T, seed=0,\n",
    "                            intervention={t1: intervention11, t2:intervention21}, discrete=True, nstates=10)\n",
    "\n",
    "intervention12 = 6*np.ones(T, dtype=int)\n",
    "intervention22 = 5*np.ones(T, dtype=int)\n",
    "intervention_data2,_,_ = DataGenerator(sem, T=T, seed=0,\n",
    "                            intervention={t1:intervention12, t2:intervention22}, discrete=True, nstates=10)\n",
    "\n",
    "true_effect = (intervention_data1[:,target_var] - intervention_data2[:,target_var]).mean()\n",
    "print(\"Ground truth ATE = %.2f\" %true_effect)"
   ]
  },
  {
   "cell_type": "code",
   "execution_count": 10,
   "id": "35725a0f",
   "metadata": {
    "scrolled": true
   },
   "outputs": [
    {
     "name": "stdout",
     "output_type": "stream",
     "text": [
      "Estimated ATE: 0.50\n",
      "Time taken: 0.98s\n"
     ]
    }
   ],
   "source": [
    "\n",
    "tic = time.time()\n",
    "\n",
    "treatments = [define_treatments(t1, intervention11,intervention12),\\\n",
    "             define_treatments(t2, intervention21,intervention22)]\n",
    "model = partial(MLPRegressor, hidden_layer_sizes=(100,100), max_iter=200) # LinearRegression\n",
    "CausalInference_ = CausalInference(data, var_names, graph_gt, model, discrete=True)#\n",
    "o, y_treat,y_control = CausalInference_.ate(target, treatments)\n",
    "print(f'Estimated ATE: {o:.2f}')\n",
    "toc = time.time()\n",
    "print(f'Time taken: {toc-tic:.2f}s')\n"
   ]
  },
  {
   "cell_type": "markdown",
   "id": "37d79ffb",
   "metadata": {},
   "source": [
    "### CATE (conditional ATE)\n",
    "For this example we will use synthetic data that has non-linear dependence among data variables."
   ]
  },
  {
   "cell_type": "code",
   "execution_count": 11,
   "id": "434903df",
   "metadata": {},
   "outputs": [
    {
     "data": {
      "text/plain": [
       "{'C': [], 'W': ['C'], 'X': ['C', 'W'], 'Y': ['C', 'X']}"
      ]
     },
     "execution_count": 11,
     "metadata": {},
     "output_type": "execute_result"
    }
   ],
   "source": [
    "T=5000\n",
    "data, var_names, graph_gt = ConditionalDataGenerator(T=T, data_type='tabular', seed=0, discrete=True, nstates=10)\n",
    "# var_names = ['C', 'W', 'X', 'Y']\n",
    "\n",
    "treatment_var='X'\n",
    "target = 'Y'\n",
    "target_idx = var_names.index(target)\n",
    "\n",
    "# note that states can be [0,1,...,9], so the multiples below must be in this range\n",
    "intervention1 = 1*np.ones(T, dtype=int)\n",
    "intervention_data1,_,_ = ConditionalDataGenerator(T=T, data_type='tabular',\\\n",
    "                                    seed=0, intervention={treatment_var:intervention1}, discrete=True, nstates=10)\n",
    "\n",
    "intervention2 = 9*np.ones(T, dtype=int)\n",
    "intervention_data2,_,_ = ConditionalDataGenerator(T=T, data_type='tabular',\\\n",
    "                                    seed=0, intervention={treatment_var:intervention2}, discrete=True, nstates=10)\n",
    "graph_gt"
   ]
  },
  {
   "cell_type": "code",
   "execution_count": 12,
   "id": "697b15c0",
   "metadata": {},
   "outputs": [
    {
     "name": "stdout",
     "output_type": "stream",
     "text": [
      "True CATE: 6.01\n",
      "Estimated CATE: 6.00\n",
      "Time taken: 3.66s\n"
     ]
    }
   ],
   "source": [
    "condition_var = 'C'\n",
    "condition_var_idx = var_names.index(condition_var)\n",
    "condition_state=1\n",
    "idx = np.where(data[:,condition_var_idx]==condition_state)[0]\n",
    "cate_gt = (intervention_data1[idx,target_idx] - intervention_data2[idx,target_idx]).mean()\n",
    "print(f'True CATE: {cate_gt:.2f}')\n",
    "\n",
    "####\n",
    "treatments = define_treatments(treatment_var, intervention1,intervention2)\n",
    "conditions = {'var_name': condition_var, 'condition_value': condition_state}\n",
    "\n",
    "tic = time.time()\n",
    "model = partial(MLPRegressor, hidden_layer_sizes=(100,100), max_iter=200)\n",
    "CausalInference_ = CausalInference(data, var_names, graph_gt, model, discrete=True)\n",
    "\n",
    "cate = CausalInference_.cate(target, treatments, conditions, model)\n",
    "toc = time.time()\n",
    "print(f'Estimated CATE: {cate:.2f}')\n",
    "print(f'Time taken: {toc-tic:.2f}s')"
   ]
  },
  {
   "cell_type": "code",
   "execution_count": null,
   "id": "0fc38dce",
   "metadata": {},
   "outputs": [],
   "source": []
  },
  {
   "cell_type": "code",
   "execution_count": null,
   "id": "77a2c1dc",
   "metadata": {},
   "outputs": [],
   "source": []
  }
 ],
 "metadata": {
  "kernelspec": {
   "display_name": "Python 3 (ipykernel)",
   "language": "python",
   "name": "python3"
  },
  "language_info": {
   "codemirror_mode": {
    "name": "ipython",
    "version": 3
   },
   "file_extension": ".py",
   "mimetype": "text/x-python",
   "name": "python",
   "nbconvert_exporter": "python",
   "pygments_lexer": "ipython3",
   "version": "3.9.13"
  }
 },
 "nbformat": 4,
 "nbformat_minor": 5
}
